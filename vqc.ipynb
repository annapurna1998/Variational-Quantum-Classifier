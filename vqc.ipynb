{
 "cells": [
  {
   "cell_type": "markdown",
   "metadata": {},
   "source": [
    "## _*Variational Quantum Classifier*_\n",
    "\n",
    "The QSVM notebook demonstrates a kernel based approach. \n",
    "**This notebook shows the variational quantum classifier method.**"
   ]
  },
  {
   "cell_type": "code",
   "execution_count": 1,
   "metadata": {},
   "outputs": [
    {
     "name": "stdout",
     "output_type": "stream",
     "text": [
      "Looking in indexes: https://pypi.org/simple, https://pypi.ngc.nvidia.com\n",
      "Requirement already satisfied: qiskit[all] in /home/annapurna/anaconda3/lib/python3.8/site-packages (0.32.1)\n",
      "Requirement already satisfied: qiskit-aer==0.9.1 in /home/annapurna/anaconda3/lib/python3.8/site-packages (from qiskit[all]) (0.9.1)\n",
      "Requirement already satisfied: qiskit-aqua==0.9.5 in /home/annapurna/anaconda3/lib/python3.8/site-packages (from qiskit[all]) (0.9.5)\n",
      "Requirement already satisfied: qiskit-ibmq-provider==0.18.1 in /home/annapurna/anaconda3/lib/python3.8/site-packages (from qiskit[all]) (0.18.1)\n",
      "Requirement already satisfied: qiskit-ignis==0.6.0 in /home/annapurna/anaconda3/lib/python3.8/site-packages (from qiskit[all]) (0.6.0)\n",
      "Requirement already satisfied: qiskit-terra==0.18.3 in /home/annapurna/anaconda3/lib/python3.8/site-packages (from qiskit[all]) (0.18.3)\n",
      "Requirement already satisfied: qiskit-optimization>=0.2.2; extra == \"all\" in /home/annapurna/anaconda3/lib/python3.8/site-packages (from qiskit[all]) (0.5.0)\n",
      "Requirement already satisfied: pylatexenc>=1.4; extra == \"all\" in /home/annapurna/anaconda3/lib/python3.8/site-packages (from qiskit[all]) (2.10)\n",
      "Requirement already satisfied: qiskit-machine-learning>=0.2.1; extra == \"all\" in /home/annapurna/anaconda3/lib/python3.8/site-packages (from qiskit[all]) (0.6.1)\n",
      "Requirement already satisfied: pillow>=4.2.1; extra == \"all\" in /home/annapurna/anaconda3/lib/python3.8/site-packages (from qiskit[all]) (7.2.0)\n",
      "Requirement already satisfied: matplotlib>=2.1; extra == \"all\" in /home/annapurna/anaconda3/lib/python3.8/site-packages (from qiskit[all]) (3.2.2)\n",
      "Requirement already satisfied: qiskit-finance>=0.2.1; extra == \"all\" in /home/annapurna/anaconda3/lib/python3.8/site-packages (from qiskit[all]) (0.3.4)\n",
      "Requirement already satisfied: pydot; extra == \"all\" in /home/annapurna/anaconda3/lib/python3.8/site-packages (from qiskit[all]) (1.4.2)\n",
      "Requirement already satisfied: ipywidgets>=7.3.0; extra == \"all\" in /home/annapurna/anaconda3/lib/python3.8/site-packages (from qiskit[all]) (7.5.1)\n",
      "Requirement already satisfied: qiskit-experiments; extra == \"all\" in /home/annapurna/anaconda3/lib/python3.8/site-packages (from qiskit[all]) (0.5.3)\n",
      "Requirement already satisfied: seaborn>=0.9.0; extra == \"all\" in /home/annapurna/anaconda3/lib/python3.8/site-packages (from qiskit[all]) (0.11.2)\n",
      "Requirement already satisfied: pygments>=2.4; extra == \"all\" in /home/annapurna/anaconda3/lib/python3.8/site-packages (from qiskit[all]) (2.6.1)\n",
      "Requirement already satisfied: qiskit-nature>=0.2.0; extra == \"all\" in /home/annapurna/anaconda3/lib/python3.8/site-packages (from qiskit[all]) (0.6.2)\n",
      "Requirement already satisfied: scipy>=1.0 in /home/annapurna/anaconda3/lib/python3.8/site-packages (from qiskit-aer==0.9.1->qiskit[all]) (1.5.0)\n",
      "Requirement already satisfied: numpy>=1.16.3 in /home/annapurna/anaconda3/lib/python3.8/site-packages (from qiskit-aer==0.9.1->qiskit[all]) (1.19.5)\n",
      "Requirement already satisfied: docplex>=2.21.207 in /home/annapurna/anaconda3/lib/python3.8/site-packages (from qiskit-aqua==0.9.5->qiskit[all]) (2.25.236)\n",
      "Requirement already satisfied: h5py<3.3.0 in /home/annapurna/anaconda3/lib/python3.8/site-packages (from qiskit-aqua==0.9.5->qiskit[all]) (2.10.0)\n",
      "Requirement already satisfied: setuptools>=40.1.0 in /home/annapurna/anaconda3/lib/python3.8/site-packages (from qiskit-aqua==0.9.5->qiskit[all]) (49.2.0.post20200714)\n",
      "Requirement already satisfied: psutil>=5 in /home/annapurna/anaconda3/lib/python3.8/site-packages (from qiskit-aqua==0.9.5->qiskit[all]) (5.7.0)\n",
      "Requirement already satisfied: dlx<=1.0.4 in /home/annapurna/anaconda3/lib/python3.8/site-packages (from qiskit-aqua==0.9.5->qiskit[all]) (1.0.4)\n",
      "Requirement already satisfied: yfinance>=0.1.62 in /home/annapurna/anaconda3/lib/python3.8/site-packages (from qiskit-aqua==0.9.5->qiskit[all]) (0.2.26)\n",
      "Requirement already satisfied: pandas in /home/annapurna/anaconda3/lib/python3.8/site-packages (from qiskit-aqua==0.9.5->qiskit[all]) (1.5.3)\n",
      "Requirement already satisfied: scikit-learn>=0.20.0 in /home/annapurna/anaconda3/lib/python3.8/site-packages (from qiskit-aqua==0.9.5->qiskit[all]) (0.22.2.post1)\n",
      "Requirement already satisfied: fastdtw<=0.3.4 in /home/annapurna/anaconda3/lib/python3.8/site-packages (from qiskit-aqua==0.9.5->qiskit[all]) (0.3.4)\n",
      "Requirement already satisfied: quandl in /home/annapurna/anaconda3/lib/python3.8/site-packages (from qiskit-aqua==0.9.5->qiskit[all]) (3.7.0)\n",
      "Requirement already satisfied: sympy>=1.3 in /home/annapurna/anaconda3/lib/python3.8/site-packages (from qiskit-aqua==0.9.5->qiskit[all]) (1.6.1)\n",
      "Requirement already satisfied: retworkx>=0.8.0 in /home/annapurna/anaconda3/lib/python3.8/site-packages (from qiskit-aqua==0.9.5->qiskit[all]) (0.13.0)\n",
      "Requirement already satisfied: python-dateutil>=2.8.0 in /home/annapurna/anaconda3/lib/python3.8/site-packages (from qiskit-ibmq-provider==0.18.1->qiskit[all]) (2.8.1)\n",
      "Requirement already satisfied: requests-ntlm>=1.1.0 in /home/annapurna/anaconda3/lib/python3.8/site-packages (from qiskit-ibmq-provider==0.18.1->qiskit[all]) (1.1.0)\n",
      "Requirement already satisfied: requests>=2.19 in /home/annapurna/anaconda3/lib/python3.8/site-packages (from qiskit-ibmq-provider==0.18.1->qiskit[all]) (2.31.0)\n",
      "Requirement already satisfied: urllib3>=1.21.1 in /home/annapurna/anaconda3/lib/python3.8/site-packages (from qiskit-ibmq-provider==0.18.1->qiskit[all]) (1.25.9)\n",
      "Requirement already satisfied: websocket-client>=1.0.1 in /home/annapurna/anaconda3/lib/python3.8/site-packages (from qiskit-ibmq-provider==0.18.1->qiskit[all]) (1.6.1)\n",
      "Requirement already satisfied: tweedledum<2.0,>=1.1 in /home/annapurna/anaconda3/lib/python3.8/site-packages (from qiskit-terra==0.18.3->qiskit[all]) (1.1.1)\n",
      "Requirement already satisfied: symengine>0.7; platform_machine == \"x86_64\" or platform_machine == \"aarch64\" or platform_machine == \"ppc64le\" or platform_machine == \"amd64\" or platform_machine == \"arm64\" in /home/annapurna/anaconda3/lib/python3.8/site-packages (from qiskit-terra==0.18.3->qiskit[all]) (0.9.2)\n",
      "Requirement already satisfied: ply>=3.10 in /home/annapurna/anaconda3/lib/python3.8/site-packages (from qiskit-terra==0.18.3->qiskit[all]) (3.11)\n",
      "Requirement already satisfied: jsonschema>=2.6 in /home/annapurna/anaconda3/lib/python3.8/site-packages (from qiskit-terra==0.18.3->qiskit[all]) (3.2.0)\n",
      "Requirement already satisfied: dill>=0.3 in /home/annapurna/anaconda3/lib/python3.8/site-packages (from qiskit-terra==0.18.3->qiskit[all]) (0.3.7)\n",
      "Requirement already satisfied: fastjsonschema>=2.10 in /home/annapurna/anaconda3/lib/python3.8/site-packages (from qiskit-terra==0.18.3->qiskit[all]) (2.18.0)\n",
      "Requirement already satisfied: python-constraint>=1.4 in /home/annapurna/anaconda3/lib/python3.8/site-packages (from qiskit-terra==0.18.3->qiskit[all]) (1.4.0)\n",
      "Requirement already satisfied: networkx>=2.6.3 in /home/annapurna/anaconda3/lib/python3.8/site-packages (from qiskit-optimization>=0.2.2; extra == \"all\"->qiskit[all]) (3.1)\n",
      "Requirement already satisfied: cycler>=0.10 in /home/annapurna/anaconda3/lib/python3.8/site-packages (from matplotlib>=2.1; extra == \"all\"->qiskit[all]) (0.10.0)\n",
      "Requirement already satisfied: kiwisolver>=1.0.1 in /home/annapurna/anaconda3/lib/python3.8/site-packages (from matplotlib>=2.1; extra == \"all\"->qiskit[all]) (1.2.0)\n",
      "Requirement already satisfied: pyparsing!=2.0.4,!=2.1.2,!=2.1.6,>=2.0.1 in /home/annapurna/anaconda3/lib/python3.8/site-packages (from matplotlib>=2.1; extra == \"all\"->qiskit[all]) (2.4.7)\n",
      "Requirement already satisfied: certifi in /home/annapurna/anaconda3/lib/python3.8/site-packages (from qiskit-finance>=0.2.1; extra == \"all\"->qiskit[all]) (2020.6.20)\n",
      "Requirement already satisfied: nasdaq-data-link in /home/annapurna/anaconda3/lib/python3.8/site-packages (from qiskit-finance>=0.2.1; extra == \"all\"->qiskit[all]) (1.0.4)\n",
      "Requirement already satisfied: ipykernel>=4.5.1 in /home/annapurna/anaconda3/lib/python3.8/site-packages (from ipywidgets>=7.3.0; extra == \"all\"->qiskit[all]) (5.3.2)\n",
      "Requirement already satisfied: widgetsnbextension~=3.5.0 in /home/annapurna/anaconda3/lib/python3.8/site-packages (from ipywidgets>=7.3.0; extra == \"all\"->qiskit[all]) (3.5.1)\n",
      "Requirement already satisfied: traitlets>=4.3.1 in /home/annapurna/anaconda3/lib/python3.8/site-packages (from ipywidgets>=7.3.0; extra == \"all\"->qiskit[all]) (4.3.3)\n",
      "Requirement already satisfied: ipython>=4.0.0; python_version >= \"3.3\" in /home/annapurna/anaconda3/lib/python3.8/site-packages (from ipywidgets>=7.3.0; extra == \"all\"->qiskit[all]) (7.16.1)\n"
     ]
    },
    {
     "name": "stdout",
     "output_type": "stream",
     "text": [
      "Requirement already satisfied: nbformat>=4.2.0 in /home/annapurna/anaconda3/lib/python3.8/site-packages (from ipywidgets>=7.3.0; extra == \"all\"->qiskit[all]) (5.0.7)\n",
      "Requirement already satisfied: lmfit in /home/annapurna/anaconda3/lib/python3.8/site-packages (from qiskit-experiments; extra == \"all\"->qiskit[all]) (1.2.2)\n",
      "Requirement already satisfied: rustworkx in /home/annapurna/anaconda3/lib/python3.8/site-packages (from qiskit-experiments; extra == \"all\"->qiskit[all]) (0.13.0)\n",
      "Requirement already satisfied: qiskit-ibm-experiment>=0.2.5 in /home/annapurna/anaconda3/lib/python3.8/site-packages (from qiskit-experiments; extra == \"all\"->qiskit[all]) (0.3.4)\n",
      "Requirement already satisfied: qiskit-dynamics>=0.3.0 in /home/annapurna/anaconda3/lib/python3.8/site-packages (from qiskit-experiments; extra == \"all\"->qiskit[all]) (0.4.1)\n",
      "Requirement already satisfied: uncertainties in /home/annapurna/anaconda3/lib/python3.8/site-packages (from qiskit-experiments; extra == \"all\"->qiskit[all]) (3.1.7)\n",
      "Requirement already satisfied: typing-extensions in /home/annapurna/anaconda3/lib/python3.8/site-packages (from qiskit-nature>=0.2.0; extra == \"all\"->qiskit[all]) (3.7.4.2)\n",
      "Requirement already satisfied: six in /home/annapurna/anaconda3/lib/python3.8/site-packages (from docplex>=2.21.207->qiskit-aqua==0.9.5->qiskit[all]) (1.15.0)\n",
      "Requirement already satisfied: multitasking>=0.0.7 in /home/annapurna/anaconda3/lib/python3.8/site-packages (from yfinance>=0.1.62->qiskit-aqua==0.9.5->qiskit[all]) (0.0.11)\n",
      "Requirement already satisfied: lxml>=4.9.1 in /home/annapurna/anaconda3/lib/python3.8/site-packages (from yfinance>=0.1.62->qiskit-aqua==0.9.5->qiskit[all]) (4.9.3)\n",
      "Requirement already satisfied: html5lib>=1.1 in /home/annapurna/anaconda3/lib/python3.8/site-packages (from yfinance>=0.1.62->qiskit-aqua==0.9.5->qiskit[all]) (1.1)\n",
      "Requirement already satisfied: beautifulsoup4>=4.11.1 in /home/annapurna/anaconda3/lib/python3.8/site-packages (from yfinance>=0.1.62->qiskit-aqua==0.9.5->qiskit[all]) (4.12.2)\n",
      "Requirement already satisfied: appdirs>=1.4.4 in /home/annapurna/anaconda3/lib/python3.8/site-packages (from yfinance>=0.1.62->qiskit-aqua==0.9.5->qiskit[all]) (1.4.4)\n",
      "Requirement already satisfied: frozendict>=2.3.4 in /home/annapurna/anaconda3/lib/python3.8/site-packages (from yfinance>=0.1.62->qiskit-aqua==0.9.5->qiskit[all]) (2.3.8)\n",
      "Requirement already satisfied: pytz>=2022.5 in /home/annapurna/anaconda3/lib/python3.8/site-packages (from yfinance>=0.1.62->qiskit-aqua==0.9.5->qiskit[all]) (2023.3)\n",
      "Requirement already satisfied: joblib>=0.11 in /home/annapurna/anaconda3/lib/python3.8/site-packages (from scikit-learn>=0.20.0->qiskit-aqua==0.9.5->qiskit[all]) (0.16.0)\n",
      "Requirement already satisfied: more-itertools in /home/annapurna/anaconda3/lib/python3.8/site-packages (from quandl->qiskit-aqua==0.9.5->qiskit[all]) (8.4.0)\n",
      "Requirement already satisfied: inflection>=0.3.1 in /home/annapurna/anaconda3/lib/python3.8/site-packages (from quandl->qiskit-aqua==0.9.5->qiskit[all]) (0.5.1)\n",
      "Requirement already satisfied: mpmath>=0.19 in /home/annapurna/anaconda3/lib/python3.8/site-packages (from sympy>=1.3->qiskit-aqua==0.9.5->qiskit[all]) (1.1.0)\n",
      "Requirement already satisfied: cryptography>=1.3 in /home/annapurna/anaconda3/lib/python3.8/site-packages (from requests-ntlm>=1.1.0->qiskit-ibmq-provider==0.18.1->qiskit[all]) (2.9.2)\n",
      "Requirement already satisfied: ntlm-auth>=1.0.2 in /home/annapurna/anaconda3/lib/python3.8/site-packages (from requests-ntlm>=1.1.0->qiskit-ibmq-provider==0.18.1->qiskit[all]) (1.5.0)\n",
      "Requirement already satisfied: idna<4,>=2.5 in /home/annapurna/anaconda3/lib/python3.8/site-packages (from requests>=2.19->qiskit-ibmq-provider==0.18.1->qiskit[all]) (2.10)\n",
      "Requirement already satisfied: charset-normalizer<4,>=2 in /home/annapurna/anaconda3/lib/python3.8/site-packages (from requests>=2.19->qiskit-ibmq-provider==0.18.1->qiskit[all]) (3.2.0)\n",
      "Requirement already satisfied: pyrsistent>=0.14.0 in /home/annapurna/anaconda3/lib/python3.8/site-packages (from jsonschema>=2.6->qiskit-terra==0.18.3->qiskit[all]) (0.16.0)\n",
      "Requirement already satisfied: attrs>=17.4.0 in /home/annapurna/anaconda3/lib/python3.8/site-packages (from jsonschema>=2.6->qiskit-terra==0.18.3->qiskit[all]) (19.3.0)\n",
      "Requirement already satisfied: jupyter-client in /home/annapurna/anaconda3/lib/python3.8/site-packages (from ipykernel>=4.5.1->ipywidgets>=7.3.0; extra == \"all\"->qiskit[all]) (6.1.6)\n",
      "Requirement already satisfied: tornado>=4.2 in /home/annapurna/anaconda3/lib/python3.8/site-packages (from ipykernel>=4.5.1->ipywidgets>=7.3.0; extra == \"all\"->qiskit[all]) (6.0.4)\n",
      "Requirement already satisfied: notebook>=4.4.1 in /home/annapurna/anaconda3/lib/python3.8/site-packages (from widgetsnbextension~=3.5.0->ipywidgets>=7.3.0; extra == \"all\"->qiskit[all]) (6.0.3)\n",
      "Requirement already satisfied: ipython-genutils in /home/annapurna/anaconda3/lib/python3.8/site-packages (from traitlets>=4.3.1->ipywidgets>=7.3.0; extra == \"all\"->qiskit[all]) (0.2.0)\n",
      "Requirement already satisfied: decorator in /home/annapurna/anaconda3/lib/python3.8/site-packages (from traitlets>=4.3.1->ipywidgets>=7.3.0; extra == \"all\"->qiskit[all]) (4.4.2)\n",
      "Requirement already satisfied: backcall in /home/annapurna/anaconda3/lib/python3.8/site-packages (from ipython>=4.0.0; python_version >= \"3.3\"->ipywidgets>=7.3.0; extra == \"all\"->qiskit[all]) (0.2.0)\n",
      "Requirement already satisfied: pickleshare in /home/annapurna/anaconda3/lib/python3.8/site-packages (from ipython>=4.0.0; python_version >= \"3.3\"->ipywidgets>=7.3.0; extra == \"all\"->qiskit[all]) (0.7.5)\n",
      "Requirement already satisfied: pexpect; sys_platform != \"win32\" in /home/annapurna/anaconda3/lib/python3.8/site-packages (from ipython>=4.0.0; python_version >= \"3.3\"->ipywidgets>=7.3.0; extra == \"all\"->qiskit[all]) (4.8.0)\n",
      "Requirement already satisfied: prompt-toolkit!=3.0.0,!=3.0.1,<3.1.0,>=2.0.0 in /home/annapurna/anaconda3/lib/python3.8/site-packages (from ipython>=4.0.0; python_version >= \"3.3\"->ipywidgets>=7.3.0; extra == \"all\"->qiskit[all]) (3.0.5)\n",
      "Requirement already satisfied: jedi>=0.10 in /home/annapurna/anaconda3/lib/python3.8/site-packages (from ipython>=4.0.0; python_version >= \"3.3\"->ipywidgets>=7.3.0; extra == \"all\"->qiskit[all]) (0.17.1)\n",
      "Requirement already satisfied: jupyter-core in /home/annapurna/anaconda3/lib/python3.8/site-packages (from nbformat>=4.2.0->ipywidgets>=7.3.0; extra == \"all\"->qiskit[all]) (4.6.3)\n",
      "Requirement already satisfied: asteval>=0.9.28 in /home/annapurna/anaconda3/lib/python3.8/site-packages (from lmfit->qiskit-experiments; extra == \"all\"->qiskit[all]) (0.9.31)\n",
      "Requirement already satisfied: multiset>=3.0.1 in /home/annapurna/anaconda3/lib/python3.8/site-packages (from qiskit-dynamics>=0.3.0->qiskit-experiments; extra == \"all\"->qiskit[all]) (3.0.1)\n",
      "Requirement already satisfied: future in /home/annapurna/anaconda3/lib/python3.8/site-packages (from uncertainties->qiskit-experiments; extra == \"all\"->qiskit[all]) (0.18.2)\n",
      "Requirement already satisfied: webencodings in /home/annapurna/anaconda3/lib/python3.8/site-packages (from html5lib>=1.1->yfinance>=0.1.62->qiskit-aqua==0.9.5->qiskit[all]) (0.5.1)\n",
      "Requirement already satisfied: soupsieve>1.2 in /home/annapurna/anaconda3/lib/python3.8/site-packages (from beautifulsoup4>=4.11.1->yfinance>=0.1.62->qiskit-aqua==0.9.5->qiskit[all]) (2.0.1)\n",
      "Requirement already satisfied: cffi!=1.11.3,>=1.8 in /home/annapurna/anaconda3/lib/python3.8/site-packages (from cryptography>=1.3->requests-ntlm>=1.1.0->qiskit-ibmq-provider==0.18.1->qiskit[all]) (1.14.0)\n",
      "Requirement already satisfied: pyzmq>=13 in /home/annapurna/anaconda3/lib/python3.8/site-packages (from jupyter-client->ipykernel>=4.5.1->ipywidgets>=7.3.0; extra == \"all\"->qiskit[all]) (19.0.1)\n",
      "Requirement already satisfied: Send2Trash in /home/annapurna/anaconda3/lib/python3.8/site-packages (from notebook>=4.4.1->widgetsnbextension~=3.5.0->ipywidgets>=7.3.0; extra == \"all\"->qiskit[all]) (1.5.0)\n",
      "Requirement already satisfied: nbconvert in /home/annapurna/anaconda3/lib/python3.8/site-packages (from notebook>=4.4.1->widgetsnbextension~=3.5.0->ipywidgets>=7.3.0; extra == \"all\"->qiskit[all]) (5.6.1)\n",
      "Requirement already satisfied: terminado>=0.8.1 in /home/annapurna/anaconda3/lib/python3.8/site-packages (from notebook>=4.4.1->widgetsnbextension~=3.5.0->ipywidgets>=7.3.0; extra == \"all\"->qiskit[all]) (0.8.3)\n",
      "Requirement already satisfied: prometheus-client in /home/annapurna/anaconda3/lib/python3.8/site-packages (from notebook>=4.4.1->widgetsnbextension~=3.5.0->ipywidgets>=7.3.0; extra == \"all\"->qiskit[all]) (0.8.0)\n",
      "Requirement already satisfied: jinja2 in /home/annapurna/anaconda3/lib/python3.8/site-packages (from notebook>=4.4.1->widgetsnbextension~=3.5.0->ipywidgets>=7.3.0; extra == \"all\"->qiskit[all]) (2.11.2)\n",
      "Requirement already satisfied: ptyprocess>=0.5 in /home/annapurna/anaconda3/lib/python3.8/site-packages (from pexpect; sys_platform != \"win32\"->ipython>=4.0.0; python_version >= \"3.3\"->ipywidgets>=7.3.0; extra == \"all\"->qiskit[all]) (0.6.0)\n",
      "Requirement already satisfied: wcwidth in /home/annapurna/anaconda3/lib/python3.8/site-packages (from prompt-toolkit!=3.0.0,!=3.0.1,<3.1.0,>=2.0.0->ipython>=4.0.0; python_version >= \"3.3\"->ipywidgets>=7.3.0; extra == \"all\"->qiskit[all]) (0.2.5)\n",
      "Requirement already satisfied: parso<0.8.0,>=0.7.0 in /home/annapurna/anaconda3/lib/python3.8/site-packages (from jedi>=0.10->ipython>=4.0.0; python_version >= \"3.3\"->ipywidgets>=7.3.0; extra == \"all\"->qiskit[all]) (0.7.0)\n",
      "Requirement already satisfied: pycparser in /home/annapurna/anaconda3/lib/python3.8/site-packages (from cffi!=1.11.3,>=1.8->cryptography>=1.3->requests-ntlm>=1.1.0->qiskit-ibmq-provider==0.18.1->qiskit[all]) (2.20)\n",
      "Requirement already satisfied: bleach in /home/annapurna/anaconda3/lib/python3.8/site-packages (from nbconvert->notebook>=4.4.1->widgetsnbextension~=3.5.0->ipywidgets>=7.3.0; extra == \"all\"->qiskit[all]) (3.1.5)\n",
      "Requirement already satisfied: mistune<2,>=0.8.1 in /home/annapurna/anaconda3/lib/python3.8/site-packages (from nbconvert->notebook>=4.4.1->widgetsnbextension~=3.5.0->ipywidgets>=7.3.0; extra == \"all\"->qiskit[all]) (0.8.4)\n",
      "Requirement already satisfied: defusedxml in /home/annapurna/anaconda3/lib/python3.8/site-packages (from nbconvert->notebook>=4.4.1->widgetsnbextension~=3.5.0->ipywidgets>=7.3.0; extra == \"all\"->qiskit[all]) (0.6.0)\n",
      "Requirement already satisfied: entrypoints>=0.2.2 in /home/annapurna/anaconda3/lib/python3.8/site-packages (from nbconvert->notebook>=4.4.1->widgetsnbextension~=3.5.0->ipywidgets>=7.3.0; extra == \"all\"->qiskit[all]) (0.3)\n",
      "Requirement already satisfied: pandocfilters>=1.4.1 in /home/annapurna/anaconda3/lib/python3.8/site-packages (from nbconvert->notebook>=4.4.1->widgetsnbextension~=3.5.0->ipywidgets>=7.3.0; extra == \"all\"->qiskit[all]) (1.4.2)\n",
      "Requirement already satisfied: testpath in /home/annapurna/anaconda3/lib/python3.8/site-packages (from nbconvert->notebook>=4.4.1->widgetsnbextension~=3.5.0->ipywidgets>=7.3.0; extra == \"all\"->qiskit[all]) (0.4.4)\n",
      "Requirement already satisfied: MarkupSafe>=0.23 in /home/annapurna/anaconda3/lib/python3.8/site-packages (from jinja2->notebook>=4.4.1->widgetsnbextension~=3.5.0->ipywidgets>=7.3.0; extra == \"all\"->qiskit[all]) (1.1.1)\n",
      "Requirement already satisfied: packaging in /home/annapurna/anaconda3/lib/python3.8/site-packages (from bleach->nbconvert->notebook>=4.4.1->widgetsnbextension~=3.5.0->ipywidgets>=7.3.0; extra == \"all\"->qiskit[all]) (20.4)\n"
     ]
    },
    {
     "name": "stdout",
     "output_type": "stream",
     "text": [
      "Note: you may need to restart the kernel to use updated packages.\n"
     ]
    }
   ],
   "source": [
    "pip install qiskit[all]"
   ]
  },
  {
   "cell_type": "code",
   "execution_count": 4,
   "metadata": {},
   "outputs": [],
   "source": [
    "import warnings \n",
    "warnings.filterwarnings('ignore')"
   ]
  },
  {
   "cell_type": "code",
   "execution_count": 5,
   "metadata": {
    "scrolled": false
   },
   "outputs": [],
   "source": [
    "import qiskit.aqua"
   ]
  },
  {
   "cell_type": "code",
   "execution_count": 6,
   "metadata": {
    "scrolled": true
   },
   "outputs": [],
   "source": [
    "from qiskit.aqua.components.optimizers import SPSA\n",
    "from qiskit.ml.datasets import breast_cancer\n",
    "from qiskit import BasicAer\n",
    "from qiskit.aqua import QuantumInstance\n",
    "from qiskit.aqua.algorithms import VQC\n",
    "from qiskit.circuit.library import TwoLocal, ZZFeatureMap\n",
    "from qiskit.aqua.utils import split_dataset_to_data_and_labels, map_label_to_class_name"
   ]
  },
  {
   "cell_type": "markdown",
   "metadata": {},
   "source": [
    "First we prepare the dataset, which is used for training, testing and the finally prediction."
   ]
  },
  {
   "cell_type": "code",
   "execution_count": 7,
   "metadata": {
    "scrolled": false
   },
   "outputs": [
    {
     "data": {
      "image/png": "[encoded data removed]",
      "text/plain": [
       "<Figure size 432x288 with 1 Axes>"
      ]
     },
     "metadata": {
      "needs_background": "light"
     },
     "output_type": "display_data"
    },
    {
     "name": "stdout",
     "output_type": "stream",
     "text": [
      "{'A': 0, 'B': 1}\n"
     ]
    }
   ],
   "source": [
    "dim = 2 # dimension of each data point\n",
    "train_size = 20\n",
    "test_size = 10\n",
    "seed = 10598\n",
    "shots = 1024\n",
    "\n",
    "total, train, test, labels = breast_cancer(\n",
    "    training_size=train_size, \n",
    "    test_size=test_size, \n",
    "    n=dim,\n",
    "    plot_data=True\n",
    ")\n",
    "data_points, classtolabel = split_dataset_to_data_and_labels(test)\n",
    "print(classtolabel)"
   ]
  },
  {
   "cell_type": "code",
   "execution_count": 8,
   "metadata": {
    "scrolled": true
   },
   "outputs": [
    {
     "data": {
      "text/plain": [
       "{'A': 0, 'B': 1}"
      ]
     },
     "execution_count": 8,
     "metadata": {},
     "output_type": "execute_result"
    }
   ],
   "source": [
    "classtolabel"
   ]
  },
  {
   "cell_type": "code",
   "execution_count": 9,
   "metadata": {
    "scrolled": false
   },
   "outputs": [
    {
     "data": {
      "text/plain": [
       "[array([[-0.10389794,  0.17924751],\n",
       "        [-0.53086407, -0.4573074 ],\n",
       "        [-0.21040012, -0.42492679],\n",
       "        [-0.02115007, -0.46893251],\n",
       "        [-0.20818445, -0.4872755 ],\n",
       "        [ 0.15707835, -0.47624366],\n",
       "        [ 0.11627517,  0.72088055],\n",
       "        [-0.06843964, -0.52360461],\n",
       "        [-0.54432956, -0.51392144],\n",
       "        [-0.31034166, -0.53951   ],\n",
       "        [-0.82652554, -0.4336021 ],\n",
       "        [-0.73291597, -0.5064755 ],\n",
       "        [-0.90409716, -0.00762145],\n",
       "        [-0.7863327 , -0.3957758 ],\n",
       "        [-0.53303533, -0.39673394],\n",
       "        [-0.60479708, -0.25758478],\n",
       "        [-0.50575853, -0.16951788],\n",
       "        [-0.97372645, -0.29405715],\n",
       "        [-0.65826859, -0.51310153],\n",
       "        [-0.78114482, -0.31921948]]),\n",
       " array([0, 0, 0, 0, 0, 0, 0, 0, 0, 0, 1, 1, 1, 1, 1, 1, 1, 1, 1, 1])]"
      ]
     },
     "execution_count": 9,
     "metadata": {},
     "output_type": "execute_result"
    }
   ],
   "source": [
    "data_points"
   ]
  },
  {
   "cell_type": "markdown",
   "metadata": {},
   "source": [
    "We construct the vqc instance directly from the classes. "
   ]
  },
  {
   "cell_type": "markdown",
   "metadata": {},
   "source": [
    "Create the vqc in the programmatic approach.\n",
    "- Optimizer instance is built  by instantiating the class SPSA.\n",
    "- Feature map instance is buillt by instantiating the class ZZFeatureMap.\n",
    "- Variational form instance is built by instantiating the class TwoLocal.\n",
    "- Vqc instance is built by instantiating the class VQC. \n"
   ]
  },
  {
   "cell_type": "code",
   "execution_count": 10,
   "metadata": {},
   "outputs": [],
   "source": [
    "backend = BasicAer.get_backend('qasm_simulator')\n",
    "\n",
    "#optimizes the hyperplane\n",
    "optimizer = SPSA(max_trials=100, c0=4.0, skip_calibration=True)\n",
    "optimizer.set_options(save_steps=1)\n",
    "\n",
    "#Data Embedding\n",
    "feature_map = ZZFeatureMap(feature_dimension=dim, reps=2)\n",
    "\n",
    "variational_form = TwoLocal(dim, ['ry', 'rz'], 'cz', reps=3)\n",
    "\n",
    "vqc = VQC(optimizer, feature_map, variational_form, train, test)\n",
    "\n",
    "quantum_instance = QuantumInstance(backend, shots=shots, seed_simulator=seed,\n",
    "                                   seed_transpiler=seed)"
   ]
  },
  {
   "cell_type": "markdown",
   "metadata": {},
   "source": [
    "Now we run it."
   ]
  },
  {
   "cell_type": "code",
   "execution_count": 11,
   "metadata": {
    "scrolled": false
   },
   "outputs": [
    {
     "name": "stdout",
     "output_type": "stream",
     "text": [
      "testing success ratio:  0.7\n"
     ]
    }
   ],
   "source": [
    "result = vqc.run(quantum_instance)\n",
    "print(\"testing success ratio: \", result['testing_accuracy'])"
   ]
  },
  {
   "cell_type": "markdown",
   "metadata": {},
   "source": [
    "The programmatic approach allows the users to invoke APIs upon the vqc instance directly. In the following, we invoke the API \"predict\" upon the trained vqc instance to predict the labels for the newly provided data input.\n",
    "\n",
    "Use the trained model to evaluate data directly, and we store a label_to_class and class_to_label for helping converting between label and class name"
   ]
  },
  {
   "cell_type": "code",
   "execution_count": 10,
   "metadata": {},
   "outputs": [
    {
     "name": "stdout",
     "output_type": "stream",
     "text": [
      "prediction:   [0 1 0 0 0 0 1 0 1 0 1 1 1 1 1 0 0 1 1 1]\n"
     ]
    }
   ],
   "source": [
    "# Datapoints of the predicted \n",
    "predicted_probability, predicted_labels = vqc.predict(data_points[0])\n",
    "predicted_classes = map_label_to_class_name(predicted_labels, vqc.label_to_class)\n",
    "print(\"prediction:   {}\".format(predicted_labels))"
   ]
  },
  {
   "cell_type": "code",
   "execution_count": 11,
   "metadata": {},
   "outputs": [
    {
     "data": {
      "text/plain": [
       "array([[0.99023438, 0.00976562],\n",
       "       [0.39746094, 0.60253906],\n",
       "       [0.72167969, 0.27832031],\n",
       "       [0.79394531, 0.20605469],\n",
       "       [0.75292969, 0.24707031],\n",
       "       [0.54003906, 0.45996094],\n",
       "       [0.40039062, 0.59960938],\n",
       "       [0.82519531, 0.17480469],\n",
       "       [0.31640625, 0.68359375],\n",
       "       [0.63378906, 0.36621094],\n",
       "       [0.18847656, 0.81152344],\n",
       "       [0.22753906, 0.77246094],\n",
       "       [0.28027344, 0.71972656],\n",
       "       [0.17285156, 0.82714844],\n",
       "       [0.4765625 , 0.5234375 ],\n",
       "       [0.51171875, 0.48828125],\n",
       "       [0.53027344, 0.46972656],\n",
       "       [0.13085938, 0.86914062],\n",
       "       [0.22851562, 0.77148438],\n",
       "       [0.19921875, 0.80078125]])"
      ]
     },
     "execution_count": 11,
     "metadata": {},
     "output_type": "execute_result"
    }
   ],
   "source": [
    "predicted_probability"
   ]
  },
  {
   "cell_type": "code",
   "execution_count": 12,
   "metadata": {},
   "outputs": [
    {
     "data": {
      "text/plain": [
       "[array([[-0.10389794,  0.17924751],\n",
       "        [-0.53086407, -0.4573074 ],\n",
       "        [-0.21040012, -0.42492679],\n",
       "        [-0.02115007, -0.46893251],\n",
       "        [-0.20818445, -0.4872755 ],\n",
       "        [ 0.15707835, -0.47624366],\n",
       "        [ 0.11627517,  0.72088055],\n",
       "        [-0.06843964, -0.52360461],\n",
       "        [-0.54432956, -0.51392144],\n",
       "        [-0.31034166, -0.53951   ],\n",
       "        [-0.82652554, -0.4336021 ],\n",
       "        [-0.73291597, -0.5064755 ],\n",
       "        [-0.90409716, -0.00762145],\n",
       "        [-0.7863327 , -0.3957758 ],\n",
       "        [-0.53303533, -0.39673394],\n",
       "        [-0.60479708, -0.25758478],\n",
       "        [-0.50575853, -0.16951788],\n",
       "        [-0.97372645, -0.29405715],\n",
       "        [-0.65826859, -0.51310153],\n",
       "        [-0.78114482, -0.31921948]]),\n",
       " array([0, 0, 0, 0, 0, 0, 0, 0, 0, 0, 1, 1, 1, 1, 1, 1, 1, 1, 1, 1])]"
      ]
     },
     "execution_count": 12,
     "metadata": {},
     "output_type": "execute_result"
    }
   ],
   "source": [
    "data_points"
   ]
  },
  {
   "cell_type": "code",
   "execution_count": null,
   "metadata": {},
   "outputs": [],
   "source": []
  }
 ],
 "metadata": {
  "kernelspec": {
   "display_name": "Python 3",
   "language": "python",
   "name": "python3"
  },
  "language_info": {
   "codemirror_mode": {
    "name": "ipython",
    "version": 3
   },
   "file_extension": ".py",
   "mimetype": "text/x-python",
   "name": "python",
   "nbconvert_exporter": "python",
   "pygments_lexer": "ipython3",
   "version": "3.8.3"
  }
 },
 "nbformat": 4,
 "nbformat_minor": 1
}
